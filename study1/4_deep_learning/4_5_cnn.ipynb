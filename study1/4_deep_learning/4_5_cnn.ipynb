{
 "cells": [
  {
   "cell_type": "code",
   "execution_count": null,
   "metadata": {
    "collapsed": true
   },
   "outputs": [],
   "source": [
    "import numpy as np\n",
    "import tensorflow as tf\n",
    "from matplotlib import pyplot as plt"
   ]
  },
  {
   "cell_type": "code",
   "execution_count": null,
   "metadata": {
    "collapsed": false
   },
   "outputs": [],
   "source": [
    "# 학습 데이터(MNIST)\n",
    "from tensorflow.examples.tutorials.mnist import input_data\n",
    "mnist = input_data.read_data_sets(\"./data/\", one_hot=True)"
   ]
  },
  {
   "cell_type": "code",
   "execution_count": null,
   "metadata": {
    "collapsed": true
   },
   "outputs": [],
   "source": [
    "# X(이미지)와 Y(숫자값)의 입력값\n",
    "X = tf.placeholder(tf.float32, [None, 28*28]) # 무한대 x 784(28*28) 행렬\n",
    "Y = tf.placeholder(tf.int64, [None]) # 무한대 x 1 행렬"
   ]
  },
  {
   "cell_type": "code",
   "execution_count": null,
   "metadata": {
    "collapsed": true
   },
   "outputs": [],
   "source": [
    "# CNN Model\n",
    "def model(input_X):\n",
    "    x_reshape = tf.reshape(X, [-1, 28, 28, 1])\n",
    "\n",
    "    # Conv 레이어1\n",
    "    W_conv1 = tf.Variable(tf.truncated_normal([5, 5, 1, 20], stddev=0.1)) # Filter가 Weight 역활을 함\n",
    "    b_conv1 = tf.Variable(tf.zeros([20]))\n",
    "    h_conv1 = tf.nn.conv2d(x_reshape, W_conv1, strides=[1, 1, 1, 1], padding='SAME') + b_conv1\n",
    "    fmap_conv1 = tf.nn.tanh(h_conv1) # -> Feature(Activation) Map 생성\n",
    "\n",
    "    # Pooling(Max) 레이어1\n",
    "    h_pool1 = tf.nn.max_pool(fmap_conv1, ksize=[1, 2, 2, 1], strides=[1, 2, 2, 1], padding='SAME')\n",
    "\n",
    "    # fully-connected 레이어 1\n",
    "    W_fc1 = tf.Variable(tf.truncated_normal([20 * 14 * 14, 500], stddev=0.1))\n",
    "    b_fc1 = tf.Variable(tf.zeros([500]))\n",
    "    h_pool1_flat = tf.reshape(h_pool1, [-1, 20 * 14 * 14])\n",
    "    h_fc1 = tf.nn.tanh(tf.matmul(h_pool1_flat, W_fc1) + b_fc1)\n",
    "\n",
    "    # 출력(fully connected) 레이어 2 (10개 출력)\n",
    "    class_num = 10\n",
    "    W_fc2 = tf.Variable(tf.truncated_normal([500, class_num], stddev=0.1))\n",
    "    b_fc2 = tf.Variable(tf.zeros([class_num]))\n",
    "    pred = tf.matmul(h_fc1, W_fc2) + b_fc2\n",
    "\n",
    "    return pred\n",
    "\n",
    "pred = model(X)"
   ]
  },
  {
   "cell_type": "code",
   "execution_count": null,
   "metadata": {
    "collapsed": true
   },
   "outputs": [],
   "source": [
    "# Cost Function(Cross Entropy)\n",
    "cross_entropy = tf.nn.sparse_softmax_cross_entropy_with_logits(labels=Y, logits=pred)\n",
    "cost = tf.reduce_mean(cross_entropy)\n",
    "\n",
    "# Gradient descent Optimizer(학습)\n",
    "learning_rate = 0.01\n",
    "optimizer = tf.train.GradientDescentOptimizer(learning_rate).minimize(cost)"
   ]
  },
  {
   "cell_type": "code",
   "execution_count": null,
   "metadata": {
    "collapsed": false
   },
   "outputs": [],
   "source": [
    "# 학습 시작\n",
    "sess = tf.Session()\n",
    "sess.run(tf.global_variables_initializer())\n",
    "\n",
    "for epoch in range(10000):\n",
    "    X_images, X_labels = mnist.train.next_batch(batch_size=100)\n",
    "    X_labels = np.where(X_labels)[1]\n",
    "#     print(X_labels)\n",
    "        \n",
    "    sess.run(optimizer, feed_dict={X: X_images, Y: X_labels})\n",
    "\n",
    "    # 로그\n",
    "    training_cost = sess.run(cost, feed_dict={X: X_images, Y: X_labels})\n",
    "    print(epoch, training_cost)\n",
    "\n",
    "print(\"학습완료! (cost : \" + str(training_cost) + \")\")"
   ]
  },
  {
   "cell_type": "code",
   "execution_count": null,
   "metadata": {
    "collapsed": false
   },
   "outputs": [],
   "source": [
    "test_images, test_labels = mnist.test.next_batch(16)\n",
    "test_labels = np.where(test_labels)[1]\n",
    "    \n",
    "batch_size = 100\n",
    "nCnt = 0\n",
    "for i in range(1):\n",
    "    x_test, test_label = mnist.test.next_batch(batch_size)\n",
    "    arr_data = sess.run(pred, feed_dict={X: x_test})\n",
    "\n",
    "    pred_val = tf.argmax(arr_data, 1)\n",
    "    real_val = np.where(test_label)[1]\n",
    "    \n",
    "    for ib in range(batch_size):\n",
    "        tmp_pred = pred_val.eval(session=sess)\n",
    "        tmp_real = real_val\n",
    "        \n",
    "        \n",
    "        if tmp_pred[ib] == tmp_real[ib]:\n",
    "            print(\"예측값: \" + str(tmp_pred[ib]) + \" / 실제값: \" + str(tmp_real[ib]) + \" => True\")\n",
    "            nCnt += 1\n",
    "        else:\n",
    "            print(\"예측값: \" + str(tmp_pred[ib]) + \" / 실제값: \" + str(tmp_real[ib]) + \" => False\")\n",
    "\n",
    "print(\"Accuracy:\", (nCnt/100.0)*100)"
   ]
  },
  {
   "cell_type": "code",
   "execution_count": null,
   "metadata": {
    "collapsed": true
   },
   "outputs": [],
   "source": []
  }
 ],
 "metadata": {
  "kernelspec": {
   "display_name": "Python 3",
   "language": "python",
   "name": "python3"
  },
  "language_info": {
   "codemirror_mode": {
    "name": "ipython",
    "version": 3
   },
   "file_extension": ".py",
   "mimetype": "text/x-python",
   "name": "python",
   "nbconvert_exporter": "python",
   "pygments_lexer": "ipython3",
   "version": "3.6.0"
  }
 },
 "nbformat": 4,
 "nbformat_minor": 2
}
