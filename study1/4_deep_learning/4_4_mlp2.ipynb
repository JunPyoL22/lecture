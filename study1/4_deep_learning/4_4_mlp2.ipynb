{
 "cells": [
  {
   "cell_type": "code",
   "execution_count": null,
   "metadata": {
    "collapsed": true
   },
   "outputs": [],
   "source": [
    "import numpy as np\n",
    "import tensorflow as tf\n",
    "from matplotlib import pyplot as plt\n",
    "\n",
    "import datas.mnist_data as mnist"
   ]
  },
  {
   "cell_type": "code",
   "execution_count": null,
   "metadata": {
    "collapsed": true
   },
   "outputs": [],
   "source": [
    "# 학습 데이터(MNIST)\n",
    "(train_labels, train_images) = mnist.get_data('./datas/', 'train')\n",
    "\n",
    "# X(이미지)와 Y(숫자값)의 입력값\n",
    "X = tf.placeholder(tf.float32, [None, 28*28]) # 무한대 x 784(28*28) 행렬\n",
    "Y = tf.placeholder(tf.int64, [None]) # 무한대 x 1 행렬"
   ]
  },
  {
   "cell_type": "code",
   "execution_count": null,
   "metadata": {
    "collapsed": true
   },
   "outputs": [],
   "source": [
    "# MLP Model\n",
    "def model(input_X):\n",
    "    # 히든 레이어1\n",
    "    W1 = tf.Variable(tf.truncated_normal([28*28, 128], stddev=0.1))\n",
    "    b1 = tf.Variable(tf.zeros([128]))\n",
    "    h1 = tf.nn.tanh(tf.matmul(input_X, W1) + b1)\n",
    "\n",
    "    # 히든 레이어2\n",
    "    W2 = tf.Variable(tf.truncated_normal([128, 64], stddev=0.1))\n",
    "    b2 = tf.Variable(tf.zeros([64]))\n",
    "    h2 = tf.nn.tanh(tf.matmul(h1, W2) + b2)\n",
    "\n",
    "    # 출력 레이어 (최종 출력 10개)\n",
    "    class_num = 10\n",
    "    W_fc = tf.Variable(tf.truncated_normal([64, class_num], stddev=0.1))\n",
    "    b_fc = tf.Variable(tf.zeros([class_num]))\n",
    "    pred = tf.matmul(h2, W_fc) + b_fc\n",
    "\n",
    "    return pred\n",
    "\n",
    "pred = model(X)"
   ]
  },
  {
   "cell_type": "code",
   "execution_count": null,
   "metadata": {
    "collapsed": true
   },
   "outputs": [],
   "source": [
    "# Cost Function 설계 (Cross Entropy)\n",
    "cross_entropy = tf.nn.sparse_softmax_cross_entropy_with_logits(labels=Y, logits=pred)\n",
    "cost = tf.reduce_mean(cross_entropy)\n",
    "\n",
    "# Gradient descent Optimizer(학습)\n",
    "optimizer = tf.train.GradientDescentOptimizer(0.01).minimize(cost)"
   ]
  },
  {
   "cell_type": "code",
   "execution_count": null,
   "metadata": {
    "collapsed": false,
    "scrolled": true
   },
   "outputs": [],
   "source": [
    "# 학습 시작\n",
    "with tf.Session() as sess:\n",
    "    sess.run(tf.global_variables_initializer())\n",
    "\n",
    "    index_in_epoch = 0\n",
    "    # 학습횟수(epoch:60) -> 총 60000개\n",
    "    for epoch in range(1, 60):\n",
    "        start = index_in_epoch\n",
    "        index_in_epoch += 1000 # 배치 1000개\n",
    "        end = index_in_epoch\n",
    "\n",
    "        X_images = np.reshape(train_images[start:end], [-1, 28*28])\n",
    "        Y_labels = train_labels[start:end]\n",
    "\n",
    "        sess.run(optimizer, feed_dict={X: X_images , Y: Y_labels})\n",
    "\n",
    "        # 로그\n",
    "        training_cost = sess.run(cost, feed_dict={X: X_images , Y: Y_labels})\n",
    "        print(epoch, training_cost)\n",
    "\n",
    "    print(\"학습완료! (cost : \" + str(training_cost) + \")\")\n",
    "\n",
    "    # 테스트 데이터로 테스트(총 10000개)\n",
    "    # iteration없고 optimizer없이, 테스트 데이터만 가지고 체크\n",
    "    # => cost 안에 이미 W와 b가 결정되었기 때문\n",
    "    (test_labels, test_images) = mnist.get_data('./datas/', 'test')\n",
    "\n",
    "    test_X = np.reshape(test_images, [-1, 28*28])\n",
    "    test_Y = test_labels\n",
    "\n",
    "    testing_cost = sess.run(cost, feed_dict={X: test_X, Y: test_Y})\n",
    "    print(\"테스트 완료! (cost : \" + str(testing_cost) + \")\")\n",
    "\n",
    "    # 학습과 테스트 cost비교(절대값)\n",
    "    print(\"테스트와 학습의 cost차이 : \", abs(training_cost - testing_cost))\n",
    "    \n",
    "    # 값 예측 (10개)\n",
    "    nCnt =0\n",
    "    for i in range(20):\n",
    "        x_test = np.reshape(train_images[i], [-1, 28*28])\n",
    "        arr_data = sess.run(pred, feed_dict={X: x_test})\n",
    "\n",
    "        pred_val = tf.argmax(arr_data, 1)\n",
    "        real_val = train_labels[i]\n",
    "        if str(tf.equal(pred_val, real_val).eval()[0]) == 'True':\n",
    "            nCnt += 1\n",
    "            print(\"nCnt:\", nCnt)\n",
    "        print(\"예측값: \" + str(pred_val.eval()) + \" / 실제값\" + str(real_val) + \" => \" + str(tf.equal(pred_val, real_val).eval()))\n",
    "    print(\"Accuracy:\", (nCnt/20.0)*100)"
   ]
  },
  {
   "cell_type": "code",
   "execution_count": null,
   "metadata": {
    "collapsed": true
   },
   "outputs": [],
   "source": []
  }
 ],
 "metadata": {
  "kernelspec": {
   "display_name": "Python 3",
   "language": "python",
   "name": "python3"
  },
  "language_info": {
   "codemirror_mode": {
    "name": "ipython",
    "version": 3
   },
   "file_extension": ".py",
   "mimetype": "text/x-python",
   "name": "python",
   "nbconvert_exporter": "python",
   "pygments_lexer": "ipython3",
   "version": "3.6.0"
  }
 },
 "nbformat": 4,
 "nbformat_minor": 2
}
