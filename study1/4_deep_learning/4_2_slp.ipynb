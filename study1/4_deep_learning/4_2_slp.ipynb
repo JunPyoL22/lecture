{
 "cells": [
  {
   "cell_type": "code",
   "execution_count": null,
   "metadata": {
    "collapsed": true
   },
   "outputs": [],
   "source": [
    "import tensorflow as tf\n",
    "import numpy as np\n",
    "from matplotlib import pyplot as plt"
   ]
  },
  {
   "cell_type": "code",
   "execution_count": null,
   "metadata": {
    "collapsed": false,
    "scrolled": true
   },
   "outputs": [],
   "source": [
    "# 학습 데이터(MNIST)\n",
    "from tensorflow.examples.tutorials.mnist import input_data\n",
    "mnist = input_data.read_data_sets(\"./data/\", one_hot=True)"
   ]
  },
  {
   "cell_type": "code",
   "execution_count": null,
   "metadata": {
    "collapsed": true
   },
   "outputs": [],
   "source": [
    "# 이미지와 라벨의 입력\n",
    "X = tf.placeholder(tf.float32, [None, 28*28]) # 무한대 x 784(28*28) 행렬\n",
    "Y = tf.placeholder(tf.int32, [None]) # 무한대 x 1 행렬"
   ]
  },
  {
   "cell_type": "code",
   "execution_count": null,
   "metadata": {
    "collapsed": false
   },
   "outputs": [],
   "source": [
    "# SLP Model\n",
    "def model(input_X):\n",
    "    # 모델의 weight와 bias\n",
    "    W = tf.Variable(tf.zeros([28*28, 10]), name=\"weight\")\n",
    "    b = tf.Variable(tf.zeros([10]), name=\"bias\")\n",
    "\n",
    "    # SoftMax 모델을 생성\n",
    "    pred = tf.nn.softmax(tf.matmul(X, W) + b)\n",
    "\n",
    "    return pred"
   ]
  },
  {
   "cell_type": "code",
   "execution_count": null,
   "metadata": {
    "collapsed": true
   },
   "outputs": [],
   "source": [
    "pred = model(X)"
   ]
  },
  {
   "cell_type": "code",
   "execution_count": null,
   "metadata": {
    "collapsed": false
   },
   "outputs": [],
   "source": [
    "# Cost Function (Cross Entropy)\n",
    "cross_entropy = tf.nn.sparse_softmax_cross_entropy_with_logits(labels=Y, logits=pred)\n",
    "cost = tf.reduce_mean(cross_entropy)\n",
    "\n",
    "# Gradient descent Optimizer(학습)\n",
    "learning_rate = 0.01\n",
    "optimizer = tf.train.GradientDescentOptimizer(learning_rate).minimize(cost)"
   ]
  },
  {
   "cell_type": "code",
   "execution_count": null,
   "metadata": {
    "collapsed": false,
    "scrolled": true
   },
   "outputs": [],
   "source": [
    "# 학습 시작\n",
    "batch_size = 100\n",
    "sess = tf.Session()\n",
    "sess.run(tf.global_variables_initializer())\n",
    "\n",
    "for epoch in range(10000):\n",
    "    X_images, X_labels = mnist.train.next_batch(batch_size)\n",
    "    X_labels = np.where(X_labels)[1]\n",
    "        \n",
    "    sess.run(optimizer, feed_dict={X: X_images, Y: X_labels})\n",
    "\n",
    "    # 로그\n",
    "    training_cost = sess.run(cost, feed_dict={X: X_images, Y: X_labels})\n",
    "    print(epoch, training_cost)\n",
    "\n",
    "print(\"학습완료! (cost : \" + str(training_cost) + \")\")"
   ]
  },
  {
   "cell_type": "code",
   "execution_count": null,
   "metadata": {
    "collapsed": false
   },
   "outputs": [],
   "source": [
    "nCnt = 0\n",
    "for i in range(1):\n",
    "    x_test, test_label = mnist.test.next_batch(test_input)\n",
    "    arr_data = sess.run(pred, feed_dict={X: x_test})\n",
    "\n",
    "    pred_val = tf.argmax(arr_data, 1)\n",
    "    real_val = np.where(test_label)[1]\n",
    "    \n",
    "    for ib in range(test_input):\n",
    "        tmp_pred = pred_val.eval(session=sess)\n",
    "        tmp_real = real_val\n",
    "        \n",
    "        if tmp_pred[ib] == tmp_real[ib]:\n",
    "            print(\"예측값: \" + str(tmp_pred[ib]) + \" / 실제값: \" + str(tmp_real[ib]) + \" => True\")\n",
    "            nCnt += 1\n",
    "        else:\n",
    "            print(\"예측값: \" + str(tmp_pred[ib]) + \" / 실제값: \" + str(tmp_real[ib]) + \" => False\")\n",
    "\n",
    "print(\"Accuracy:\", (nCnt/100.0)*100)"
   ]
  },
  {
   "cell_type": "code",
   "execution_count": null,
   "metadata": {
    "collapsed": true
   },
   "outputs": [],
   "source": []
  }
 ],
 "metadata": {
  "kernelspec": {
   "display_name": "Python 3",
   "language": "python",
   "name": "python3"
  },
  "language_info": {
   "codemirror_mode": {
    "name": "ipython",
    "version": 3
   },
   "file_extension": ".py",
   "mimetype": "text/x-python",
   "name": "python",
   "nbconvert_exporter": "python",
   "pygments_lexer": "ipython3",
   "version": "3.6.0"
  }
 },
 "nbformat": 4,
 "nbformat_minor": 2
}
