{
 "cells": [
  {
   "cell_type": "code",
   "execution_count": null,
   "metadata": {
    "collapsed": true
   },
   "outputs": [],
   "source": [
    "import tensorflow as tf"
   ]
  },
  {
   "cell_type": "code",
   "execution_count": null,
   "metadata": {
    "collapsed": false
   },
   "outputs": [],
   "source": [
    "#그래프 생성\n",
    "g = tf.Graph()\n",
    "with g.as_default() as base_g:\n",
    "    with base_g.name_scope(\"g1\") as scope:\n",
    "        # 상수를 생성하여 정의된 그래프에 추가\n",
    "        x1 = tf.constant(10, name=\"X\")\n",
    "        y1 = tf.constant(5, name=\"Y\")\n",
    "        x_y1 = tf.add(x1, y1, name=\"ADD\")\n",
    "        print(x_y1)\n",
    "\n",
    "# 세션 시작\n",
    "with tf.Session(graph=g) as sess:\n",
    "    # 그래프 계산 명령 실행\n",
    "    print(sess.run(x_y1))"
   ]
  },
  {
   "cell_type": "code",
   "execution_count": null,
   "metadata": {
    "collapsed": false
   },
   "outputs": [],
   "source": [
    "x2 = tf.constant(10, name=\"X\")\n",
    "y2 = tf.constant(5, name=\"Y\")\n",
    "x_y2 = tf.add(x2, y2, name=\"ADD\")\n",
    "print(x_y2)\n",
    "\n",
    "# 세션 시작\n",
    "sess = tf.Session()\n",
    "# 그래프 계산 명령 실행\n",
    "print(sess.run(x_y2))"
   ]
  },
  {
   "cell_type": "code",
   "execution_count": null,
   "metadata": {
    "collapsed": true
   },
   "outputs": [],
   "source": []
  }
 ],
 "metadata": {
  "kernelspec": {
   "display_name": "Python 3",
   "language": "python",
   "name": "python3"
  },
  "language_info": {
   "codemirror_mode": {
    "name": "ipython",
    "version": 3
   },
   "file_extension": ".py",
   "mimetype": "text/x-python",
   "name": "python",
   "nbconvert_exporter": "python",
   "pygments_lexer": "ipython3",
   "version": "3.6.0"
  }
 },
 "nbformat": 4,
 "nbformat_minor": 2
}
