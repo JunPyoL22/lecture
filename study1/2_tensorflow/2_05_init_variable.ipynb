{
 "cells": [
  {
   "cell_type": "code",
   "execution_count": null,
   "metadata": {
    "collapsed": true
   },
   "outputs": [],
   "source": [
    "import tensorflow as tf"
   ]
  },
  {
   "cell_type": "code",
   "execution_count": null,
   "metadata": {
    "collapsed": false
   },
   "outputs": [],
   "source": [
    "w1 = tf.Variable(tf.random_normal([3, 2]), name=\"W1\")\n",
    "w2 = tf.Variable(2, name ='W2')\n",
    "\n",
    "\n",
    "b1 = tf.Variable(w1.initialized_value() + 3, name=\"B1\")\n",
    "b2 = tf.Variable(w2.initialized_value() + 3, name=\"B2\")"
   ]
  },
  {
   "cell_type": "code",
   "execution_count": null,
   "metadata": {
    "collapsed": false
   },
   "outputs": [],
   "source": [
    "with tf.Session() as sess:\n",
    "    sess.run(w1.initializer)\n",
    "    sess.run(w2.initializer)\n",
    "    sess.run(b1.initializer)\n",
    "    sess.run(b2.initializer)\n",
    "    print(sess.run(w1))\n",
    "    print(sess.run(w2))\n",
    "    print(sess.run(b1))\n",
    "    print(sess.run(b2))"
   ]
  },
  {
   "cell_type": "code",
   "execution_count": null,
   "metadata": {
    "collapsed": true
   },
   "outputs": [],
   "source": []
  }
 ],
 "metadata": {
  "kernelspec": {
   "display_name": "Python 3",
   "language": "python",
   "name": "python3"
  },
  "language_info": {
   "codemirror_mode": {
    "name": "ipython",
    "version": 3
   },
   "file_extension": ".py",
   "mimetype": "text/x-python",
   "name": "python",
   "nbconvert_exporter": "python",
   "pygments_lexer": "ipython3",
   "version": "3.6.0"
  }
 },
 "nbformat": 4,
 "nbformat_minor": 2
}
