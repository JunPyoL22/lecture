{
 "cells": [
  {
   "cell_type": "code",
   "execution_count": 1,
   "metadata": {
    "collapsed": true
   },
   "outputs": [],
   "source": [
    "import tensorflow as tf"
   ]
  },
  {
   "cell_type": "code",
   "execution_count": 2,
   "metadata": {},
   "outputs": [],
   "source": [
    "w1 = tf.Variable(tf.random_normal([3, 2]), name=\"W1\")\n",
    "w2 = tf.Variable(2, name ='W2')\n",
    "\n",
    "b1 = tf.Variable(w1.initialized_value() + 3, name=\"B1\")\n",
    "b2 = tf.Variable(w2.initialized_value() + 3, name=\"B2\")"
   ]
  },
  {
   "cell_type": "code",
   "execution_count": 4,
   "metadata": {},
   "outputs": [
    {
     "name": "stdout",
     "output_type": "stream",
     "text": [
      "<tf.Variable 'W1:0' shape=(3, 2) dtype=float32_ref>\n",
      "<tf.Variable 'W2:0' shape=() dtype=int32_ref>\n"
     ]
    }
   ],
   "source": [
    "print(w1)\n",
    "print(w2)"
   ]
  },
  {
   "cell_type": "code",
   "execution_count": 5,
   "metadata": {},
   "outputs": [
    {
     "name": "stdout",
     "output_type": "stream",
     "text": [
      "[[-0.65409046  0.5291444 ]\n",
      " [-0.0267463  -0.5722586 ]\n",
      " [-0.15682918  0.8362113 ]]\n",
      "2\n",
      "[[2.3459096 3.5291443]\n",
      " [2.9732537 2.4277415]\n",
      " [2.843171  3.8362112]]\n",
      "5\n"
     ]
    }
   ],
   "source": [
    "with tf.Session() as sess:\n",
    "    sess.run(w1.initializer)\n",
    "    sess.run(w2.initializer)\n",
    "    sess.run(b1.initializer)\n",
    "    sess.run(b2.initializer)\n",
    "    print(sess.run(w1))\n",
    "    print(sess.run(w2))\n",
    "    print(sess.run(b1))\n",
    "    print(sess.run(b2))"
   ]
  },
  {
   "cell_type": "code",
   "execution_count": null,
   "metadata": {
    "collapsed": true
   },
   "outputs": [],
   "source": []
  }
 ],
 "metadata": {
  "kernelspec": {
   "display_name": "Python 3",
   "language": "python",
   "name": "python3"
  },
  "language_info": {
   "codemirror_mode": {
    "name": "ipython",
    "version": 3
   },
   "file_extension": ".py",
   "mimetype": "text/x-python",
   "name": "python",
   "nbconvert_exporter": "python",
   "pygments_lexer": "ipython3",
   "version": "3.5.2"
  }
 },
 "nbformat": 4,
 "nbformat_minor": 2
}
