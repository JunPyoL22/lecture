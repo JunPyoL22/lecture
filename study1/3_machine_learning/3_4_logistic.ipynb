{
 "cells": [
  {
   "cell_type": "code",
   "execution_count": null,
   "metadata": {
    "collapsed": true
   },
   "outputs": [],
   "source": [
    "import numpy as np\n",
    "import tensorflow as tf\n",
    "import matplotlib.pyplot as plt"
   ]
  },
  {
   "cell_type": "code",
   "execution_count": null,
   "metadata": {
    "collapsed": true
   },
   "outputs": [],
   "source": [
    "# 학습 데이터\n",
    "train_X = [0.3, 0.4, 9.5, 6.71, 8.93, 2.168, 9.779, 7.182, 8.59, 0.167, 7.042, 6.791, 8.313, 7.182, 8.59, 0.167, 7.042, 6.791, 8.313, 0.5, 0.4, 0.3, 0.3, 0.4, 7.5, 9.71, 7.93, 0.168, 8.779, 6.182, 7.59, 4.167, 6.042, 9.791, 7.313, 6.182, 6.59, 0.167, 6.042, 0.791, 7.313, 0.5, 1.4, 0.3]\n",
    "train_Y = [0, 0, 1, 1, 1, 0, 1, 1, 1, 0, 1, 1, 1, 1, 1, 0, 1, 1, 1, 0, 0, 0, 0, 0, 1, 1, 1, 0, 1, 1, 1, 0, 1, 1, 1, 1, 1, 0, 1, 0, 1, 0, 0, 0]\n",
    "\n",
    "# X와 Y의 입력값\n",
    "X = tf.placeholder(tf.float32)\n",
    "Y = tf.placeholder(tf.float32)\n",
    "\n",
    "# 모델의 wright와 bias의 값을 random으로 초기화\n",
    "W = tf.Variable(0., name=\"weight\")\n",
    "b = tf.Variable(0., name=\"bias\")"
   ]
  },
  {
   "cell_type": "code",
   "execution_count": null,
   "metadata": {
    "collapsed": false
   },
   "outputs": [],
   "source": [
    "# 화면표시\n",
    "plt.plot(train_X, train_Y, 'ro', label='Original data')\n",
    "\n",
    "plt.legend()\n",
    "plt.show()\n",
    "plt.close()"
   ]
  },
  {
   "cell_type": "code",
   "execution_count": null,
   "metadata": {
    "collapsed": true
   },
   "outputs": [],
   "source": [
    "# Logistic 모델을 생성\n",
    "pred = 1. / (1. + tf.exp(-(W*X + b)))\n",
    "# pred = tf.sigmoid(W*X + b)\n",
    "\n",
    "# Cost Function 설계 (with Cross Entropy)\n",
    "cost = tf.reduce_mean(tf.reduce_sum(-Y * tf.log(pred) - (1 - Y) * tf.log(1 - pred)))\n",
    "\n",
    "# Gradient descent Optimizer(학습)\n",
    "learning_rate = 0.01\n",
    "optimizer = tf.train.GradientDescentOptimizer(learning_rate).minimize(cost)"
   ]
  },
  {
   "cell_type": "code",
   "execution_count": null,
   "metadata": {
    "collapsed": false
   },
   "outputs": [],
   "source": [
    "# 학습 시작\n",
    "# with tf.Session() as sess:\n",
    "sess = tf.Session()\n",
    "# 초기화 실행\n",
    "sess.run(tf.global_variables_initializer())\n",
    "\n",
    "# 학습횟수(epoch:1000)\n",
    "for epoch in range(1000):\n",
    "    sess.run(optimizer, feed_dict={X: train_X, Y:train_Y})\n",
    "\n",
    "    # 로그\n",
    "    training_cost = sess.run(cost, feed_dict={X: train_X, Y:train_Y})\n",
    "    training_W = sess.run(W)\n",
    "    training_b = sess.run(b)\n",
    "    print(epoch, training_cost, [training_W, training_b])\n",
    "\n",
    "print(\"학습완료! (cost : \" + str(training_cost) + \")\")\n",
    "print(\"Decesion boundary = %f\"%(-1*training_b/training_W))"
   ]
  },
  {
   "cell_type": "code",
   "execution_count": null,
   "metadata": {
    "collapsed": false
   },
   "outputs": [],
   "source": [
    "# # 테스트\n",
    "test_X = [0.3, 0.4, 1.5, 3.8, 7.93, 0.168, 8.779, 9.182]\n",
    "test_Y = [0, 0, 0, 1, 1, 0, 1, 1]\n",
    "test_Y = sess.run(pred, feed_dict={X: test_X})\n",
    "print(str(test_Y))\n",
    "\n",
    "# plot\n",
    "plt.plot(train_X, train_Y, 'ro', label='Original data')\n",
    "plt.plot(test_X, test_Y, 'bo', label='Testing data')\n",
    "\n",
    "plt.legend()\n",
    "plt.show()\n",
    "plt.close\n",
    "\n",
    "# 값 예측\n",
    "print(\"x가 0.15일때 : \" + str(sess.run(pred, feed_dict={X: [0.15]})))\n",
    "print(\"x가 8.5일때 : \" + str(sess.run(pred, feed_dict={X: [8.5]})))\n",
    "print(\"x가 6.5일때 : \" + str(sess.run(pred, feed_dict={X: [6.5]})))\n",
    "print(\"x가 3.9일때 : \" + str(sess.run(pred, feed_dict={X: [3.9]})))"
   ]
  },
  {
   "cell_type": "code",
   "execution_count": null,
   "metadata": {
    "collapsed": true
   },
   "outputs": [],
   "source": []
  }
 ],
 "metadata": {
  "kernelspec": {
   "display_name": "Python 3",
   "language": "python",
   "name": "python3"
  },
  "language_info": {
   "codemirror_mode": {
    "name": "ipython",
    "version": 3
   },
   "file_extension": ".py",
   "mimetype": "text/x-python",
   "name": "python",
   "nbconvert_exporter": "python",
   "pygments_lexer": "ipython3",
   "version": "3.6.0"
  }
 },
 "nbformat": 4,
 "nbformat_minor": 2
}
