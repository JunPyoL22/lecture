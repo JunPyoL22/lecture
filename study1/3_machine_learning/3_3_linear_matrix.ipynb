{
 "cells": [
  {
   "cell_type": "code",
   "execution_count": null,
   "metadata": {
    "collapsed": true
   },
   "outputs": [],
   "source": [
    "import numpy as np\n",
    "import tensorflow as tf\n",
    "import matplotlib.pyplot as plt"
   ]
  },
  {
   "cell_type": "code",
   "execution_count": null,
   "metadata": {
    "collapsed": false
   },
   "outputs": [],
   "source": [
    "train_X = np.loadtxt('./data/3_3_linear_matrix.csv', unpack=True, dtype='float')\n",
    "print(train_X)"
   ]
  },
  {
   "cell_type": "code",
   "execution_count": null,
   "metadata": {
    "collapsed": true
   },
   "outputs": [],
   "source": [
    "# 학습 데이터(배열의 형태로 파일에서 가져올 수 있음)\n",
    "train_Y = [1.7, 2.76, 2.09, 3.19, 1.694, 1.573, 3.366, 2.596, 2.53, 1.221, 2.827, 3.465, 1.65]\n",
    "\n",
    "# X와 Y의 입력값\n",
    "X = tf.placeholder(\"float\")\n",
    "Y = tf.placeholder(\"float\")\n",
    "\n",
    "# 모델의 wright 값을 랜덤으로 초기화\n",
    "W = tf.Variable(tf.zeros([1, 2], dtype=tf.float32), name=\"weights\")\n",
    "\n",
    "# 모델의 wright 값을 랜덤으로 초기화\n",
    "b = tf.Variable(tf.zeros([1, 1], dtype=tf.float32), name=\"biases\")"
   ]
  },
  {
   "cell_type": "code",
   "execution_count": null,
   "metadata": {
    "collapsed": true
   },
   "outputs": [],
   "source": [
    "# linear 모델을 생성\n",
    "# y = ax + b 형태이나 행렬임(matrix multiply 사용)\n",
    "pred = tf.matmul(W, X) + b\n",
    "\n",
    "# Cost Function (with Mean squared error)\n",
    "cost = tf.reduce_mean(tf.square(pred-Y))\n",
    "\n",
    "# Gradient descent Optimizer(학습)\n",
    "learning_rate = 0.01\n",
    "optimizer = tf.train.GradientDescentOptimizer(learning_rate).minimize(cost)"
   ]
  },
  {
   "cell_type": "code",
   "execution_count": null,
   "metadata": {
    "collapsed": false
   },
   "outputs": [],
   "source": [
    "# 학습 시작\n",
    "sess = tf.Session()\n",
    "\n",
    "# 초기화\n",
    "sess.run(tf.global_variables_initializer())\n",
    "\n",
    "# 학습횟수(epoch:3000)\n",
    "for epoch in range(3000):\n",
    "    sess.run(optimizer, feed_dict={X: train_X, Y:train_Y})\n",
    "\n",
    "    # 로그\n",
    "    training_cost = sess.run(cost, feed_dict={X: train_X, Y:train_Y})\n",
    "    training_W = sess.run(W)\n",
    "    training_B = sess.run(b)\n",
    "    print(epoch, training_cost, [training_W[0][0], training_B[0][0]])\n",
    "\n",
    "print(\"학습완료! (cost : \" + str(training_cost) + \")\")"
   ]
  },
  {
   "cell_type": "code",
   "execution_count": null,
   "metadata": {
    "collapsed": false
   },
   "outputs": [],
   "source": [
    "# 값 예측\n",
    "print(\"x1가 3.3, X2가 2.3일때 -> \" +\n",
    "      str(\"\\nTrue: \") + str(1.7) + \n",
    "      str(\"\\nPrediction: \") + str(sess.run(pred, feed_dict={X: [[3.3], [3.6]]})))"
   ]
  },
  {
   "cell_type": "code",
   "execution_count": null,
   "metadata": {
    "collapsed": true
   },
   "outputs": [],
   "source": [
    "sess.close()"
   ]
  },
  {
   "cell_type": "code",
   "execution_count": null,
   "metadata": {
    "collapsed": true
   },
   "outputs": [],
   "source": []
  }
 ],
 "metadata": {
  "kernelspec": {
   "display_name": "Python 3",
   "language": "python",
   "name": "python3"
  },
  "language_info": {
   "codemirror_mode": {
    "name": "ipython",
    "version": 3
   },
   "file_extension": ".py",
   "mimetype": "text/x-python",
   "name": "python",
   "nbconvert_exporter": "python",
   "pygments_lexer": "ipython3",
   "version": "3.6.0"
  }
 },
 "nbformat": 4,
 "nbformat_minor": 2
}
