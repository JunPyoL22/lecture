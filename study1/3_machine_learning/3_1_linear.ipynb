{
 "cells": [
  {
   "cell_type": "code",
   "execution_count": null,
   "metadata": {
    "collapsed": true
   },
   "outputs": [],
   "source": [
    "import tensorflow as tf\n",
    "import matplotlib.pyplot as plt"
   ]
  },
  {
   "cell_type": "code",
   "execution_count": null,
   "metadata": {
    "collapsed": false
   },
   "outputs": [],
   "source": [
    "# 학습 데이터\n",
    "train_X = [3.0, 4.1, 5.5, 6.71, 6.93, 4.168, 9.779, 6.182, 7.59, 2.167, 7.042, 10.791, 5.313]\n",
    "train_Y = [1.7, 2.76, 2.09, 3.19, 1.694, 1.573, 3.366, 2.596, 2.53, 1.221, 2.827, 3.465, 1.65]\n",
    "\n",
    "# Placeholder\n",
    "X = tf.placeholder(\"float\")\n",
    "Y = tf.placeholder(\"float\")\n",
    "\n",
    "# Weight, Bias 변수 선언\n",
    "W = tf.Variable(-10.0, name=\"weight\")\n",
    "b = tf.Variable(4.0, name=\"bias\")"
   ]
  },
  {
   "cell_type": "code",
   "execution_count": null,
   "metadata": {
    "collapsed": false
   },
   "outputs": [],
   "source": [
    "# plotting\n",
    "plt.plot(train_X,\n",
    "         train_Y,\n",
    "         'ro',\n",
    "         label='training data')\n",
    "plt.xlim(0, 12)\n",
    "plt.ylim(0, 5)\n",
    "plt.legend()\n",
    "plt.show()\n",
    "plt.close()"
   ]
  },
  {
   "cell_type": "code",
   "execution_count": null,
   "metadata": {
    "collapsed": true
   },
   "outputs": [],
   "source": [
    "# linear 모델을 생성\n",
    "# y = ax + b\n",
    "pred = W * X + b\n",
    "\n",
    "# Cost Function 설계 (with Mean squared error)\n",
    "cost = tf.reduce_mean(tf.square(pred-Y))\n",
    "\n",
    "# Gradient descent Optimizer\n",
    "learning_rate = 0.01\n",
    "optimizer = tf.train.GradientDescentOptimizer(learning_rate).minimize(cost)"
   ]
  },
  {
   "cell_type": "code",
   "execution_count": null,
   "metadata": {
    "collapsed": false,
    "scrolled": true
   },
   "outputs": [],
   "source": [
    "# 학습 시작\n",
    "sess = tf.Session()\n",
    "    \n",
    "# 초기화\n",
    "sess.run(tf.global_variables_initializer())\n",
    "\n",
    "# 학습\n",
    "for epoch in range(3000):\n",
    "    sess.run(optimizer, feed_dict={X: train_X, Y:train_Y})\n",
    "\n",
    "    # 로그\n",
    "    training_cost = sess.run(cost, feed_dict={X: train_X, Y:train_Y})\n",
    "    training_W = sess.run(W)\n",
    "    training_b = sess.run(b)\n",
    "    print(epoch, training_cost, [training_W, training_b])\n",
    "    \n",
    "    pred_result = sess.run(pred, feed_dict={X: train_X})\n",
    "    if epoch % 500 == 0:\n",
    "        # plotting\n",
    "        plt.plot(train_X, train_Y, 'ro', label='Original data')\n",
    "        plt.plot(train_X, pred_result, label='Fitted line')\n",
    "        plt.xlim(0, 12)\n",
    "        plt.ylim(0, 5)\n",
    "        plt.legend()\n",
    "#         plt.show()\n",
    "        plt.savefig('./tmp/img/fit-epoch%d.png' % (epoch), bbox_inches='tight')\n",
    "        plt.close()\n",
    "\n",
    "print(\"Finished (cost : \" + str(training_cost) + \")\")"
   ]
  },
  {
   "cell_type": "code",
   "execution_count": null,
   "metadata": {
    "collapsed": false
   },
   "outputs": [],
   "source": [
    "pred_result = sess.run(pred, feed_dict={X: train_X})\n",
    "\n",
    "# plotting\n",
    "plt.plot(train_X, train_Y, 'ro', label='Original data')\n",
    "plt.plot(train_X, pred_result, label='Fitted line')\n",
    "\n",
    "\n",
    "# 임의의 값으로 테스트\n",
    "test_val = sess.run(pred, feed_dict={X: 3.3})\n",
    "\n",
    "print(\"x가 3.3일때 : \" + str(test_val))\n",
    "plt.plot(3.3, test_val, 'bo', label='test data')\n",
    "plt.xlim(0, 12)\n",
    "plt.ylim(0, 5)\n",
    "\n",
    "plt.legend()\n",
    "plt.show()\n",
    "plt.close()"
   ]
  },
  {
   "cell_type": "code",
   "execution_count": null,
   "metadata": {
    "collapsed": true
   },
   "outputs": [],
   "source": [
    "sess.close()"
   ]
  },
  {
   "cell_type": "code",
   "execution_count": null,
   "metadata": {
    "collapsed": true
   },
   "outputs": [],
   "source": []
  }
 ],
 "metadata": {
  "kernelspec": {
   "display_name": "Python 3",
   "language": "python",
   "name": "python3"
  },
  "language_info": {
   "codemirror_mode": {
    "name": "ipython",
    "version": 3
   },
   "file_extension": ".py",
   "mimetype": "text/x-python",
   "name": "python",
   "nbconvert_exporter": "python",
   "pygments_lexer": "ipython3",
   "version": "3.6.0"
  }
 },
 "nbformat": 4,
 "nbformat_minor": 2
}
