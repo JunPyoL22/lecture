{
 "cells": [
  {
   "cell_type": "code",
   "execution_count": null,
   "metadata": {
    "collapsed": false
   },
   "outputs": [],
   "source": [
    "print(\"if 문\")\n",
    "condition1 = 1\n",
    "if condition == 1:\n",
    "    print(\"1\")\n",
    "elif condition == 2:\n",
    "    print(\"2\")\n",
    "else:\n",
    "    print(\"else\")"
   ]
  },
  {
   "cell_type": "code",
   "execution_count": null,
   "metadata": {
    "collapsed": false
   },
   "outputs": [],
   "source": [
    "print(\"while 문\")\n",
    "# while 문\n",
    "condition2 = 0\n",
    "while condition2 <= 10:\n",
    "    print(condition2)\n",
    "    condition2 = condition2 + 1\n",
    "#     condition2 += 1"
   ]
  },
  {
   "cell_type": "code",
   "execution_count": null,
   "metadata": {
    "collapsed": false
   },
   "outputs": [],
   "source": [
    "print(\"for 문\")\n",
    "\n",
    "for ii in range(3):\n",
    "    print(ii)\n",
    "\n",
    "\n",
    "condition3 = [1,2,3]\n",
    "for jj in condition3:\n",
    "    print(jj)"
   ]
  },
  {
   "cell_type": "code",
   "execution_count": null,
   "metadata": {
    "collapsed": true
   },
   "outputs": [],
   "source": []
  }
 ],
 "metadata": {
  "kernelspec": {
   "display_name": "Python 3",
   "language": "python",
   "name": "python3"
  },
  "language_info": {
   "codemirror_mode": {
    "name": "ipython",
    "version": 3
   },
   "file_extension": ".py",
   "mimetype": "text/x-python",
   "name": "python",
   "nbconvert_exporter": "python",
   "pygments_lexer": "ipython3",
   "version": "3.6.0"
  }
 },
 "nbformat": 4,
 "nbformat_minor": 2
}
