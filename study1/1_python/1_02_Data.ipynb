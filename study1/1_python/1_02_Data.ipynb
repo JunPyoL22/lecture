{
 "cells": [
  {
   "cell_type": "code",
   "execution_count": null,
   "metadata": {
    "collapsed": false
   },
   "outputs": [],
   "source": [
    "# List\n",
    "list = [1, 2, '1', '2']\n",
    "print(list)\n",
    "\n",
    "#print(list + (3, '3')) # 에러 같은 형끼리만 연산이 된다\n",
    "print(list + [3, '3'])\n",
    "\n",
    "del(list[3])\n",
    "list.append(3)\n",
    "print(list)\n",
    "\n",
    "print(list[:2])"
   ]
  },
  {
   "cell_type": "code",
   "execution_count": null,
   "metadata": {
    "collapsed": false
   },
   "outputs": [],
   "source": [
    "# Tuple\n",
    "tuple = (1, 2, '1', '2')\n",
    "print(tuple[0]) # int\n",
    "print(tuple[3]) # str\n",
    "print(type(tuple[0])) # int\n",
    "print(type(tuple[3])) # str\n",
    "\n",
    "print(tuple + (3, '3'))\n",
    "print(tuple[:2])\n",
    "\n",
    "# del(tuple[3]) # 에러 : 튜플은 수정불가\n",
    "# tuple.append(3) # 에러 : 튜플은 수정불가\n",
    "\n",
    "tuple1 = tuple[0:2]\n",
    "print(tuple1)"
   ]
  },
  {
   "cell_type": "code",
   "execution_count": null,
   "metadata": {
    "collapsed": false
   },
   "outputs": [],
   "source": [
    "# Dictionary\n",
    "dic = {'1':2, 1:'2'}\n",
    "print(dic['1'])\n",
    "\n",
    "dic = {'t': [1,2,3]}\n",
    "print(dic['t'][1])"
   ]
  },
  {
   "cell_type": "code",
   "execution_count": null,
   "metadata": {
    "collapsed": true
   },
   "outputs": [],
   "source": []
  }
 ],
 "metadata": {
  "kernelspec": {
   "display_name": "Python 3",
   "language": "python",
   "name": "python3"
  },
  "language_info": {
   "codemirror_mode": {
    "name": "ipython",
    "version": 3
   },
   "file_extension": ".py",
   "mimetype": "text/x-python",
   "name": "python",
   "nbconvert_exporter": "python",
   "pygments_lexer": "ipython3",
   "version": "3.6.0"
  }
 },
 "nbformat": 4,
 "nbformat_minor": 2
}
